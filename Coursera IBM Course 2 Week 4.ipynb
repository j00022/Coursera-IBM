{
 "cells": [
  {
   "cell_type": "markdown",
   "metadata": {
    "collapsed": true
   },
   "source": [
    "# My Jupyter Notebook on IBM Watson Studio"
   ]
  },
  {
   "cell_type": "markdown",
   "metadata": {},
   "source": [
    "**Jack C.** <br>\n",
    "Data Analyst"
   ]
  },
  {
   "cell_type": "markdown",
   "metadata": {},
   "source": [
    "*I am interested in data science because data driven decision making is the future and there are not enough people nor companies who believe in it. I believe that using data to guide our choices is the equivalent of learning from history and I want to champion that.*"
   ]
  },
  {
   "cell_type": "markdown",
   "metadata": {},
   "source": [
    "### The code below performs a simple mathematical calculation. If you have two tacos for lunch, and three more tacos for dinner, how many tacos did you eat today?"
   ]
  },
  {
   "cell_type": "code",
   "execution_count": 4,
   "metadata": {},
   "outputs": [
    {
     "data": {
      "text/plain": [
       "5"
      ]
     },
     "execution_count": 4,
     "metadata": {},
     "output_type": "execute_result"
    }
   ],
   "source": [
    "2 + 3"
   ]
  },
  {
   "cell_type": "markdown",
   "metadata": {},
   "source": [
    "<img src = \"https://upload.wikimedia.org/wikipedia/commons/thumb/8/80/Noto_Emoji_Oreo_1f32e.svg/180px-Noto_Emoji_Oreo_1f32e.svg.png\">\n",
    "<br>\n",
    "Below are our notes:\n",
    "<br>\n",
    "\n",
    "|Tacos for Lunch|Tacos for Dinner|\n",
    "|-|-|\n",
    "|2|3|\n",
    "\n",
    "-  <del>Tacos are bad for you</del>\n",
    "-  <div class=\"alert alert-block alert-success\">You can never have too many tacos</div>\n",
    "-  Five tacos a day is not enough tacos\n",
    "-  You had the following tacos today\n",
    "    -  Lunch\n",
    "        1. Fish taco\n",
    "        1. Lengua taco\n",
    "    -  Dinner\n",
    "        1. Fish taco\n",
    "        1. Lobster taco\n",
    "        1. Ice cream taco"
   ]
  }
 ],
 "metadata": {
  "kernelspec": {
   "display_name": "Python 3.9",
   "language": "python",
   "name": "python3"
  },
  "language_info": {
   "codemirror_mode": {
    "name": "ipython",
    "version": 3
   },
   "file_extension": ".py",
   "mimetype": "text/x-python",
   "name": "python",
   "nbconvert_exporter": "python",
   "pygments_lexer": "ipython3",
   "version": "3.9.12"
  }
 },
 "nbformat": 4,
 "nbformat_minor": 1
}
